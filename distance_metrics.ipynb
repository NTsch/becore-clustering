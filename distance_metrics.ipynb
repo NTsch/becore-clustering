{
 "cells": [
  {
   "cell_type": "code",
   "execution_count": 11,
   "id": "ea257eb0-9fe5-48e5-a3e9-08e5ed32f4c5",
   "metadata": {},
   "outputs": [],
   "source": [
    "import pickle\n",
    "import numpy as np\n",
    "from scipy.spatial.distance import cdist"
   ]
  },
  {
   "cell_type": "code",
   "execution_count": 12,
   "id": "95c9f631-84f4-421b-9b43-8711f70251cb",
   "metadata": {},
   "outputs": [],
   "source": [
    "feature_path = r\"/home/tschernn/becore-clustering/features_hog.pkl\"\n",
    "\n",
    "with open(feature_path, 'rb') as file:\n",
    "    feature_list = pickle.load(file)"
   ]
  },
  {
   "cell_type": "code",
   "execution_count": 13,
   "id": "579dce1f-3104-424c-9491-db59f7b379bf",
   "metadata": {},
   "outputs": [],
   "source": [
    "# normalize features for cosine similarity\n",
    "\n",
    "normalized_features = [f / np.linalg.norm(f) for f in feature_list]"
   ]
  },
  {
   "cell_type": "code",
   "execution_count": 14,
   "id": "a37e0fb5-11d9-4d7f-9a15-e343c74d4d22",
   "metadata": {},
   "outputs": [],
   "source": [
    "# calculate pairwise distance matrices\n",
    "\n",
    "euclidean_distances = cdist(feature_list, feature_list, metric='euclidean')\n",
    "cosine_similarities = 1 - cdist(normalized_features, normalized_features, metric='cosine')"
   ]
  },
  {
   "cell_type": "code",
   "execution_count": 15,
   "id": "bb8c4d0a-3df9-4330-90c5-11b64b7187dd",
   "metadata": {},
   "outputs": [
    {
     "name": "stdout",
     "output_type": "stream",
     "text": [
      "Euclidean Distance Matrix: [[ 0.         47.74234365 47.78098966 ... 47.49733646 53.700283\n",
      "  50.24601782]\n",
      " [47.74234365  0.         37.58776563 ... 43.60524435 52.79566765\n",
      "  43.90129811]\n",
      " [47.78098966 37.58776563  0.         ... 41.27608367 52.85358033\n",
      "  42.09558342]\n",
      " ...\n",
      " [47.49733646 43.60524435 41.27608367 ...  0.         47.97400063\n",
      "  45.04209863]\n",
      " [53.700283   52.79566765 52.85358033 ... 47.97400063  0.\n",
      "  52.71358597]\n",
      " [50.24601782 43.90129811 42.09558342 ... 45.04209863 52.71358597\n",
      "   0.        ]]\n",
      "Cosine Similarity Matrix: [[1.         0.56302097 0.56105926 ... 0.51321001 0.37355124 0.50876462]\n",
      " [0.56302097 1.         0.74076572 ... 0.61465688 0.42883811 0.6426159 ]\n",
      " [0.56105926 0.74076572 1.         ... 0.65426947 0.42574959 0.67054139]\n",
      " ...\n",
      " [0.51321001 0.61465688 0.65426947 ... 1.         0.46038326 0.58119644]\n",
      " [0.37355124 0.42883811 0.42574959 ... 0.46038326 1.         0.4212637 ]\n",
      " [0.50876462 0.6426159  0.67054139 ... 0.58119644 0.4212637  1.        ]]\n"
     ]
    }
   ],
   "source": [
    "print(\"Euclidean Distance Matrix:\", euclidean_distances)\n",
    "print(\"Cosine Similarity Matrix:\", cosine_similarities)"
   ]
  },
  {
   "cell_type": "code",
   "execution_count": 16,
   "id": "e069cb83-eb0d-4d32-a06e-1cfe8a2d1d5e",
   "metadata": {},
   "outputs": [
    {
     "name": "stdout",
     "output_type": "stream",
     "text": [
      "Saved features as /home/tschernn/becore-clustering/dist_hog_euc.pkl.\n",
      "Saved features as /home/tschernn/becore-clustering/dist_hog_cos.pkl.\n"
     ]
    }
   ],
   "source": [
    "p = r\"/home/tschernn/becore-clustering/dist_hog_euc.pkl\"\n",
    "\n",
    "with open(p,'wb') as file:\n",
    "    pickle.dump(euclidean_distances, file)\n",
    "    print(f'Saved features as {file.name}.')\n",
    "\n",
    "p = r\"/home/tschernn/becore-clustering/dist_hog_cos.pkl\"\n",
    "\n",
    "with open(p,'wb') as file:\n",
    "    pickle.dump(cosine_similarities, file)\n",
    "    print(f'Saved features as {file.name}.')"
   ]
  }
 ],
 "metadata": {
  "kernelspec": {
   "display_name": "Python 3 (ipykernel)",
   "language": "python",
   "name": "python3"
  },
  "language_info": {
   "codemirror_mode": {
    "name": "ipython",
    "version": 3
   },
   "file_extension": ".py",
   "mimetype": "text/x-python",
   "name": "python",
   "nbconvert_exporter": "python",
   "pygments_lexer": "ipython3",
   "version": "3.10.12"
  }
 },
 "nbformat": 4,
 "nbformat_minor": 5
}
