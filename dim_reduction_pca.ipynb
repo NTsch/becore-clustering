{
 "cells": [
  {
   "cell_type": "code",
   "execution_count": 1,
   "id": "136eecd9-feb9-4d49-9817-fb7d1316af86",
   "metadata": {},
   "outputs": [
    {
     "name": "stderr",
     "output_type": "stream",
     "text": [
      "/home/tschernn/.local/lib/python3.10/site-packages/matplotlib/projections/__init__.py:63: UserWarning: Unable to import Axes3D. This may be due to multiple versions of Matplotlib being installed (e.g. as a system package and as a pip package). As a result, the 3D projection is not available.\n",
      "  warnings.warn(\"Unable to import Axes3D. This may be due to multiple versions of \"\n"
     ]
    }
   ],
   "source": [
    "### dimensionality reduction with PCA\n",
    "## input: array of feature vectors\n",
    "## output: array of feature vectors\n",
    "\n",
    "from sklearn.decomposition import PCA\n",
    "from sklearn.preprocessing import StandardScaler\n",
    "import numpy as np\n",
    "import matplotlib.pyplot as plt\n",
    "import pickle"
   ]
  },
  {
   "cell_type": "code",
   "execution_count": 2,
   "id": "ff8aa5a4-0b6f-4bbd-af17-77b646757900",
   "metadata": {},
   "outputs": [
    {
     "data": {
      "text/plain": [
       "(155, 4096)"
      ]
     },
     "execution_count": 2,
     "metadata": {},
     "output_type": "execute_result"
    }
   ],
   "source": [
    "# import features\n",
    "\n",
    "feature_path = r\"/home/tschernn/clustering/features_vgg.pkl\"\n",
    "\n",
    "with open(feature_path, 'rb') as file:\n",
    "    data = pickle.load(file)\n",
    "\n",
    "data.shape"
   ]
  },
  {
   "cell_type": "code",
   "execution_count": 3,
   "id": "26d374f8-acc9-49b4-be09-6b214d82847f",
   "metadata": {},
   "outputs": [
    {
     "name": "stdout",
     "output_type": "stream",
     "text": [
      "number of components after PCA 0.98 = 143\n"
     ]
    }
   ],
   "source": [
    "# to perform PCA we first adjust mean and variance using StandardScaler\n",
    "Clus_dataSet = StandardScaler().fit_transform(data) # (mean = 0 and variance = 1)\n",
    "\n",
    "# make an instance of the Model\n",
    "# you can either choose a desired amount of retained variance, or decide the number of dimensions to reduce to yourself\n",
    "\n",
    "## if you choose to set a desired variance:\n",
    "# the higher the explained variance the more accurate the model will remain\n",
    "variance = 0.98\n",
    "pca = PCA(variance, random_state = 22)\n",
    "\n",
    "## if you select the number of dimensions yourself\n",
    "#dims = 2\n",
    "#pca = PCA(dims, random_state = 22)\n",
    "\n",
    "# fit the data according to PCA instance\n",
    "pca.fit(Clus_dataSet)\n",
    "\n",
    "#print(f'cumulative variance explained by {dims} principal components: {np.sum(pca.explained_variance_ratio_)}')\n",
    "print(f'number of components after PCA {variance} = ' + str(pca.n_components_))"
   ]
  },
  {
   "cell_type": "code",
   "execution_count": 4,
   "id": "407b355c-fa74-4f98-9c05-294d0a03ad8f",
   "metadata": {},
   "outputs": [
    {
     "name": "stdout",
     "output_type": "stream",
     "text": [
      "Dimensions of our data after PCA  = (155, 143)\n"
     ]
    }
   ],
   "source": [
    "# transform our data according to our PCA instance\n",
    "Clus_dataSet = pca.transform(Clus_dataSet)\n",
    "print(\"Dimensions of our data after PCA  = \" + str(Clus_dataSet.shape)) "
   ]
  },
  {
   "cell_type": "code",
   "execution_count": 5,
   "id": "5c281007-db74-49d2-a410-a1a4bc38b6ad",
   "metadata": {},
   "outputs": [
    {
     "name": "stdout",
     "output_type": "stream",
     "text": [
      "Saved features as /home/tschernn/clustering/features_vgg_dimred.pkl.\n"
     ]
    }
   ],
   "source": [
    "feature_path = feature_path.split('.')[0]\n",
    "feature_path = feature_path + '_dimred.pkl'\n",
    "\n",
    "### export data as pickle file\n",
    "\n",
    "with open(feature_path,'wb') as file:\n",
    "    pickle.dump(Clus_dataSet, file)\n",
    "    print(f'Saved features as {file.name}.')"
   ]
  },
  {
   "cell_type": "code",
   "execution_count": 6,
   "id": "470a722a-62ae-4cf4-acbb-1c661f4717ad",
   "metadata": {},
   "outputs": [
    {
     "name": "stdout",
     "output_type": "stream",
     "text": [
      "Dimensions of our data after inverse transforming the PCA  = (155, 4096)\n"
     ]
    }
   ],
   "source": [
    "# to visualise the data inversed from PCA\n",
    "approximation = pca.inverse_transform(Clus_dataSet)\n",
    "print(\"Dimensions of our data after inverse transforming the PCA  = \" + str(approximation.shape))"
   ]
  },
  {
   "cell_type": "raw",
   "id": "19454410-dda8-4774-aadd-ebacb32694f5",
   "metadata": {},
   "source": [
    "# TODO: visualize image reconstructed using the data with fewer dimensions\n",
    "plt.figure(figsize=(8,4));\n",
    "\n",
    "n = 500 #index value, change to view different data\n",
    "\n",
    "# Original Image\n",
    "plt.subplot(1, 2, 1);\n",
    "plt.imshow(X[n].reshape(X_train.shape[1], X_train.shape[2]),\n",
    "              cmap = plt.cm.gray,);\n",
    "plt.xlabel(str(X.shape[1])+' components', fontsize = 14)\n",
    "plt.title('Original Image', fontsize = 20);\n",
    "\n",
    "# 196 principal components\n",
    "plt.subplot(1, 2, 2);\n",
    "plt.imshow(approximation[n].reshape(X_train.shape[1], X_train.shape[2]),\n",
    "              cmap = plt.cm.gray,);\n",
    "plt.xlabel(str(Clus_dataSet.shape[1]) +' components', fontsize = 14)\n",
    "plt.title(str(variance * 100) + '% of Variance Retained', fontsize = 20);\n",
    "\n",
    "print(y_train[n])"
   ]
  }
 ],
 "metadata": {
  "kernelspec": {
   "display_name": "Python 3 (ipykernel)",
   "language": "python",
   "name": "python3"
  },
  "language_info": {
   "codemirror_mode": {
    "name": "ipython",
    "version": 3
   },
   "file_extension": ".py",
   "mimetype": "text/x-python",
   "name": "python",
   "nbconvert_exporter": "python",
   "pygments_lexer": "ipython3",
   "version": "3.10.12"
  }
 },
 "nbformat": 4,
 "nbformat_minor": 5
}
