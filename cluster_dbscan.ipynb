{
 "cells": [
  {
   "cell_type": "code",
   "execution_count": 11,
   "id": "2e20eea2-2ea5-4aa0-b88a-d258818d97fc",
   "metadata": {},
   "outputs": [],
   "source": [
    "from sklearn import metrics\n",
    "from sklearn.cluster import DBSCAN\n",
    "from sklearn.preprocessing import StandardScaler\n",
    "\n",
    "import pickle"
   ]
  },
  {
   "cell_type": "code",
   "execution_count": 12,
   "id": "b5ead106-5794-4a7a-ac5e-a1bd61252d1e",
   "metadata": {},
   "outputs": [
    {
     "data": {
      "text/plain": [
       "(304, 50)"
      ]
     },
     "execution_count": 12,
     "metadata": {},
     "output_type": "execute_result"
    }
   ],
   "source": [
    "## import features and charter list\n",
    "\n",
    "feature_path = r\"/home/tschernn/becore-clustering/pickles/features_resnet_dimred_pca.pkl\"\n",
    "with open(feature_path, 'rb') as file:\n",
    "    data = pickle.load(file)\n",
    "\n",
    "charter_path = r\"/home/tschernn/becore-clustering/pickles/charter_list.pkl\"\n",
    "with open(charter_path, 'rb') as file:\n",
    "    charters = pickle.load(file)\n",
    "\n",
    "data.shape"
   ]
  },
  {
   "cell_type": "code",
   "execution_count": 13,
   "id": "1c01561f-f450-4988-85a8-8623afb5b8f9",
   "metadata": {},
   "outputs": [
    {
     "name": "stdout",
     "output_type": "stream",
     "text": [
      "Estimated number of clusters: 0\n",
      "Estimated number of noise points: 304\n"
     ]
    }
   ],
   "source": [
    "features_scaled = StandardScaler().fit_transform(data)\n",
    "\n",
    "dbscan = DBSCAN(eps=1.5, min_samples=5, metric=\"euclidean\").fit(data)\n",
    "labels = dbscan.fit_predict(features_scaled)\n",
    "\n",
    "# Number of clusters in labels, ignoring noise if present.\n",
    "n_clusters_ = len(set(labels)) - (1 if -1 in labels else 0)\n",
    "n_noise_ = list(labels).count(-1)\n",
    "\n",
    "print(\"Estimated number of clusters: %d\" % n_clusters_)\n",
    "print(\"Estimated number of noise points: %d\" % n_noise_)"
   ]
  }
 ],
 "metadata": {
  "kernelspec": {
   "display_name": "Python 3 (ipykernel)",
   "language": "python",
   "name": "python3"
  },
  "language_info": {
   "codemirror_mode": {
    "name": "ipython",
    "version": 3
   },
   "file_extension": ".py",
   "mimetype": "text/x-python",
   "name": "python",
   "nbconvert_exporter": "python",
   "pygments_lexer": "ipython3",
   "version": "3.10.12"
  }
 },
 "nbformat": 4,
 "nbformat_minor": 5
}
