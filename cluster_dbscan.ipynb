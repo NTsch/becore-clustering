{
 "cells": [
  {
   "cell_type": "code",
   "execution_count": 7,
   "id": "2e20eea2-2ea5-4aa0-b88a-d258818d97fc",
   "metadata": {},
   "outputs": [],
   "source": [
    "import numpy as np\n",
    "\n",
    "from sklearn import metrics\n",
    "from sklearn.cluster import DBSCAN\n",
    "\n",
    "import pickle"
   ]
  },
  {
   "cell_type": "code",
   "execution_count": 8,
   "id": "b5ead106-5794-4a7a-ac5e-a1bd61252d1e",
   "metadata": {},
   "outputs": [
    {
     "data": {
      "text/plain": [
       "(155, 139)"
      ]
     },
     "execution_count": 8,
     "metadata": {},
     "output_type": "execute_result"
    }
   ],
   "source": [
    "## import features and charter list\n",
    "\n",
    "array_path = r\"/home/tschernn/clustering/img_array.pkl\"\n",
    "\n",
    "with open(array_path, 'rb') as file:\n",
    "    img_array = pickle.load(file)\n",
    "\n",
    "feature_path = r\"/home/tschernn/clustering/features_vgg_dimred.pkl\"\n",
    "\n",
    "with open(feature_path, 'rb') as file:\n",
    "    data = pickle.load(file)\n",
    "\n",
    "charter_path = r\"/home/tschernn/clustering/charter_list.pkl\"\n",
    "\n",
    "with open(charter_path, 'rb') as file:\n",
    "    charters = pickle.load(file)\n",
    "\n",
    "data.shape"
   ]
  },
  {
   "cell_type": "code",
   "execution_count": 23,
   "id": "1c01561f-f450-4988-85a8-8623afb5b8f9",
   "metadata": {},
   "outputs": [
    {
     "name": "stdout",
     "output_type": "stream",
     "text": [
      "Estimated number of clusters: 2\n",
      "Estimated number of noise points: 136\n"
     ]
    }
   ],
   "source": [
    "db = DBSCAN(eps=45, min_samples=10).fit(data)\n",
    "labels = db.labels_\n",
    "\n",
    "# Number of clusters in labels, ignoring noise if present.\n",
    "n_clusters_ = len(set(labels)) - (1 if -1 in labels else 0)\n",
    "n_noise_ = list(labels).count(-1)\n",
    "\n",
    "print(\"Estimated number of clusters: %d\" % n_clusters_)\n",
    "print(\"Estimated number of noise points: %d\" % n_noise_)"
   ]
  },
  {
   "cell_type": "code",
   "execution_count": null,
   "id": "a22a4da8-2f0f-4e58-852e-3ff0d6384eec",
   "metadata": {},
   "outputs": [],
   "source": []
  }
 ],
 "metadata": {
  "kernelspec": {
   "display_name": "Python 3 (ipykernel)",
   "language": "python",
   "name": "python3"
  },
  "language_info": {
   "codemirror_mode": {
    "name": "ipython",
    "version": 3
   },
   "file_extension": ".py",
   "mimetype": "text/x-python",
   "name": "python",
   "nbconvert_exporter": "python",
   "pygments_lexer": "ipython3",
   "version": "3.10.12"
  }
 },
 "nbformat": 4,
 "nbformat_minor": 5
}
