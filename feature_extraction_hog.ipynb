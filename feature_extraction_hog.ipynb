{
 "cells": [
  {
   "cell_type": "code",
   "execution_count": 1,
   "id": "5bb850a6-2d54-42a6-88bd-e4e786e39cad",
   "metadata": {},
   "outputs": [
    {
     "name": "stderr",
     "output_type": "stream",
     "text": [
      "2024-04-22 13:34:31.747717: E external/local_xla/xla/stream_executor/cuda/cuda_dnn.cc:9261] Unable to register cuDNN factory: Attempting to register factory for plugin cuDNN when one has already been registered\n",
      "2024-04-22 13:34:31.747770: E external/local_xla/xla/stream_executor/cuda/cuda_fft.cc:607] Unable to register cuFFT factory: Attempting to register factory for plugin cuFFT when one has already been registered\n",
      "2024-04-22 13:34:31.748737: E external/local_xla/xla/stream_executor/cuda/cuda_blas.cc:1515] Unable to register cuBLAS factory: Attempting to register factory for plugin cuBLAS when one has already been registered\n",
      "2024-04-22 13:34:31.754657: I tensorflow/core/platform/cpu_feature_guard.cc:182] This TensorFlow binary is optimized to use available CPU instructions in performance-critical operations.\n",
      "To enable the following instructions: AVX2 FMA, in other operations, rebuild TensorFlow with the appropriate compiler flags.\n",
      "2024-04-22 13:34:32.344970: W tensorflow/compiler/tf2tensorrt/utils/py_utils.cc:38] TF-TRT Warning: Could not find TensorRT\n",
      "/home/tschernn/.local/lib/python3.10/site-packages/matplotlib/projections/__init__.py:63: UserWarning: Unable to import Axes3D. This may be due to multiple versions of Matplotlib being installed (e.g. as a system package and as a pip package). As a result, the 3D projection is not available.\n",
      "  warnings.warn(\"Unable to import Axes3D. This may be due to multiple versions of \"\n"
     ]
    }
   ],
   "source": [
    "from keras.preprocessing.image import load_img\n",
    "from skimage.feature import hog\n",
    "from skimage import data, exposure\n",
    "from scipy.spatial import distance\n",
    "from sklearn.cluster import KMeans, AgglomerativeClustering\n",
    "from sklearn.metrics import silhouette_score\n",
    "\n",
    "import os\n",
    "import numpy as np\n",
    "import matplotlib.pyplot as plt\n",
    "import pickle"
   ]
  },
  {
   "cell_type": "code",
   "execution_count": 28,
   "id": "eff1456b-0c18-468d-a85d-bd08402aa9a6",
   "metadata": {},
   "outputs": [
    {
     "data": {
      "text/plain": [
       "[('b4c3769d01eecf4c42876353cc1ea34b.jpg', 'writable_area_notar'),\n",
       " ('wa_9edaeeb95f8fbfba8211d1b029e40fc52.jpg', 'writable_area_papst_oe'),\n",
       " ('wa_ec6be3bcdb3d8136fc8807576dfcdde02.jpg', 'writable_area_papst_oe'),\n",
       " ('wa_30111c186b060268789e4a4ec66d962a.jpg', 'writable_area_papst_oe')]"
      ]
     },
     "execution_count": 28,
     "metadata": {},
     "output_type": "execute_result"
    }
   ],
   "source": [
    "## create list of image files\n",
    "\n",
    "# enter paths to all directories from which you want to cluster images\n",
    "paths = [\"/home/tschernn/clustering/preprocessed_imgs/binarized_imgs/writable_area_notar\", \"/home/tschernn/clustering/preprocessed_imgs/binarized_imgs/writable_area_papst_oe\"]\n",
    "# change the working directory to the path where the images are located\n",
    "\n",
    "# this list holds all the image filenames\n",
    "charters = []\n",
    "\n",
    "# iterate over files in path\n",
    "for path in paths:\n",
    "    with os.scandir(path) as files:\n",
    "        for file in files:\n",
    "            if file.name.endswith(('.png', '.jpg')):\n",
    "              # adds the image files to the list\n",
    "                charters.append((file.name, path.split('/')[-1]))\n",
    "\n",
    "# save list of charters and folders\n",
    "charter_p = r\"/home/tschernn/clustering/charter_list.pkl\"\n",
    "\n",
    "with open(charter_p,'wb') as file:\n",
    "    pickle.dump(charters, file)\n",
    "\n",
    "charters[1:-1:50]"
   ]
  },
  {
   "cell_type": "code",
   "execution_count": 29,
   "id": "ee586104-1011-4ecd-898e-993a959ff7d5",
   "metadata": {},
   "outputs": [
    {
     "name": "stdout",
     "output_type": "stream",
     "text": [
      "Saved image arrays as /home/tschernn/clustering/img_array.pkl.\n"
     ]
    }
   ],
   "source": [
    "## reshape imgs\n",
    "\n",
    "img_size = (1000, 1000)\n",
    "\n",
    "def reshape_img(file):\n",
    "    # load the image as a PIL of the chosen size\n",
    "    img = load_img(file, target_size=img_size)\n",
    "    # convert from 'PIL.Image.Image' to numpy array => img.shape is (224, 224, 3)\n",
    "    img = np.array(img) \n",
    "    # reshape the array for the model - reshape(num_of_samples, dim 1, dim 2, channels) => img.shape is (1, 224, 224, 3)\n",
    "    reshaped_img = img.reshape(1, img_size[0], img_size[1], 3)\n",
    "    return reshaped_img\n",
    "\n",
    "### save and export image array\n",
    " \n",
    "imgs_list = []\n",
    "for charter in charters:\n",
    "    reshaped = reshape_img(f'/home/tschernn/clustering/preprocessed_imgs/binarized_imgs/{charter[1]}/{charter[0]}')\n",
    "    imgs_list.append(reshaped)\n",
    "imgs_array = np.array(imgs_list)\n",
    "imgs_array = imgs_array.squeeze()\n",
    "imgs_array.shape\n",
    "\n",
    "p = r\"/home/tschernn/clustering/img_array.pkl\"\n",
    "\n",
    "with open(p,'wb') as file:\n",
    "    pickle.dump(imgs_array, file)\n",
    "    print(f'Saved image arrays as {file.name}.')"
   ]
  },
  {
   "cell_type": "code",
   "execution_count": 30,
   "id": "a32e0443-2521-4cee-8910-4efceb47cc0c",
   "metadata": {},
   "outputs": [],
   "source": [
    "def extract_features_hog(image):\n",
    "    feat, hog_image = hog(image, orientations=9, \n",
    "                        pixels_per_cell=(128, 128), cells_per_block=(2, 2), \n",
    "                        visualize=True, channel_axis=-1)\n",
    "    return feat, hog_image"
   ]
  },
  {
   "cell_type": "code",
   "execution_count": 31,
   "id": "26425a55-976b-4127-81bd-4b209dd760fa",
   "metadata": {},
   "outputs": [],
   "source": [
    "feature_list = []\n",
    "hog_image_list = []\n",
    "\n",
    "len_imgs = len(imgs_array)\n",
    "\n",
    "for i in range(len_imgs):\n",
    "    feature, hog_image = feature_extraction(imgs_array[i])\n",
    "    \n",
    "    feature_list.append(feature)\n",
    "    hog_image_list.append(hog_image)"
   ]
  },
  {
   "cell_type": "code",
   "execution_count": 32,
   "id": "c16d833f-6b94-4022-bf49-a06af55480ef",
   "metadata": {},
   "outputs": [
    {
     "data": {
      "text/plain": [
       "(155, 155)"
      ]
     },
     "execution_count": 32,
     "metadata": {},
     "output_type": "execute_result"
    }
   ],
   "source": [
    "# create an empty nxn distance matrix\n",
    "distance_matrix = np.zeros((len_imgs, len_imgs))\n",
    "\n",
    "for i in range(len_imgs):\n",
    "    fd_i = feature_list[i]\n",
    "    for k in range(i):\n",
    "        fd_k = feature_list[k]\n",
    "        # measure Jensen–Shannon distance between each feature vector and add to the distance matrix\n",
    "        distance_matrix[i, k] = distance.jensenshannon(fd_i, fd_k)\n",
    "\n",
    "# symmetrize the matrix as distance matrix is symmetric\n",
    "distance_matrix = np.maximum(distance_matrix, distance_matrix.transpose())\n",
    "data = distance_matrix\n",
    "\n",
    "data.shape"
   ]
  },
  {
   "cell_type": "code",
   "execution_count": 33,
   "id": "7ff0c5a5-ea56-4413-aeb3-277ab8b09d43",
   "metadata": {},
   "outputs": [
    {
     "name": "stdout",
     "output_type": "stream",
     "text": [
      "Saved features as /home/tschernn/clustering/features_hog.pkl.\n"
     ]
    }
   ],
   "source": [
    "### export data as pickle file\n",
    "\n",
    "p = r\"/home/tschernn/clustering/features_hog.pkl\"\n",
    "\n",
    "with open(p,'wb') as file:\n",
    "    pickle.dump(distance_matrix, file)\n",
    "    print(f'Saved features as {file.name}.')"
   ]
  },
  {
   "cell_type": "code",
   "execution_count": null,
   "id": "c34df0a8-8796-4c7c-bb78-4926f25e91f0",
   "metadata": {},
   "outputs": [],
   "source": []
  }
 ],
 "metadata": {
  "kernelspec": {
   "display_name": "Python 3 (ipykernel)",
   "language": "python",
   "name": "python3"
  },
  "language_info": {
   "codemirror_mode": {
    "name": "ipython",
    "version": 3
   },
   "file_extension": ".py",
   "mimetype": "text/x-python",
   "name": "python",
   "nbconvert_exporter": "python",
   "pygments_lexer": "ipython3",
   "version": "3.10.12"
  }
 },
 "nbformat": 4,
 "nbformat_minor": 5
}
